{
 "cells": [
  {
   "cell_type": "code",
   "execution_count": 1,
   "metadata": {
    "ExecuteTime": {
     "end_time": "2020-11-03T17:32:00.452040Z",
     "start_time": "2020-11-03T17:31:53.894767Z"
    }
   },
   "outputs": [],
   "source": [
    "import geopandas\n",
    "\n",
    "df = geopandas.read_file(\"world_flights_soei4h.json\")"
   ]
  },
  {
   "cell_type": "code",
   "execution_count": 2,
   "metadata": {
    "ExecuteTime": {
     "end_time": "2020-11-03T17:32:00.480242Z",
     "start_time": "2020-11-03T17:32:00.454398Z"
    }
   },
   "outputs": [
    {
     "data": {
      "text/html": [
       "<div>\n",
       "<style scoped>\n",
       "    .dataframe tbody tr th:only-of-type {\n",
       "        vertical-align: middle;\n",
       "    }\n",
       "\n",
       "    .dataframe tbody tr th {\n",
       "        vertical-align: top;\n",
       "    }\n",
       "\n",
       "    .dataframe thead th {\n",
       "        text-align: right;\n",
       "    }\n",
       "</style>\n",
       "<table border=\"1\" class=\"dataframe\">\n",
       "  <thead>\n",
       "    <tr style=\"text-align: right;\">\n",
       "      <th></th>\n",
       "      <th>icao24</th>\n",
       "      <th>origin_country</th>\n",
       "      <th>callsign</th>\n",
       "      <th>airline</th>\n",
       "      <th>country</th>\n",
       "      <th>geometry</th>\n",
       "    </tr>\n",
       "  </thead>\n",
       "  <tbody>\n",
       "    <tr>\n",
       "      <td>0</td>\n",
       "      <td>7c81b0</td>\n",
       "      <td>Australia</td>\n",
       "      <td>ZWI</td>\n",
       "      <td>missing_info</td>\n",
       "      <td>missing_info</td>\n",
       "      <td>LINESTRING Z (145.09650 -37.96880 121.92000, 1...</td>\n",
       "    </tr>\n",
       "    <tr>\n",
       "      <td>1</td>\n",
       "      <td>7c811b</td>\n",
       "      <td>Australia</td>\n",
       "      <td>ZSD</td>\n",
       "      <td>missing_info</td>\n",
       "      <td>missing_info</td>\n",
       "      <td>LINESTRING Z (145.09950 -37.97700 83.82000, 14...</td>\n",
       "    </tr>\n",
       "    <tr>\n",
       "      <td>2</td>\n",
       "      <td>7c8089</td>\n",
       "      <td>Australia</td>\n",
       "      <td>ZOB</td>\n",
       "      <td>missing_info</td>\n",
       "      <td>missing_info</td>\n",
       "      <td>LINESTRING Z (152.70550 -26.23650 342.90000, 1...</td>\n",
       "    </tr>\n",
       "    <tr>\n",
       "      <td>3</td>\n",
       "      <td>7c7fbe</td>\n",
       "      <td>Australia</td>\n",
       "      <td>ZIO</td>\n",
       "      <td>missing_info</td>\n",
       "      <td>missing_info</td>\n",
       "      <td>LINESTRING Z (150.97290 -33.91310 205.74000, 1...</td>\n",
       "    </tr>\n",
       "    <tr>\n",
       "      <td>4</td>\n",
       "      <td>7c7f47</td>\n",
       "      <td>Australia</td>\n",
       "      <td>ZFD</td>\n",
       "      <td>missing_info</td>\n",
       "      <td>missing_info</td>\n",
       "      <td>LINESTRING Z (144.74670 -37.93670 106.68000, 1...</td>\n",
       "    </tr>\n",
       "  </tbody>\n",
       "</table>\n",
       "</div>"
      ],
      "text/plain": [
       "   icao24 origin_country callsign       airline       country  \\\n",
       "0  7c81b0      Australia      ZWI  missing_info  missing_info   \n",
       "1  7c811b      Australia      ZSD  missing_info  missing_info   \n",
       "2  7c8089      Australia      ZOB  missing_info  missing_info   \n",
       "3  7c7fbe      Australia      ZIO  missing_info  missing_info   \n",
       "4  7c7f47      Australia      ZFD  missing_info  missing_info   \n",
       "\n",
       "                                            geometry  \n",
       "0  LINESTRING Z (145.09650 -37.96880 121.92000, 1...  \n",
       "1  LINESTRING Z (145.09950 -37.97700 83.82000, 14...  \n",
       "2  LINESTRING Z (152.70550 -26.23650 342.90000, 1...  \n",
       "3  LINESTRING Z (150.97290 -33.91310 205.74000, 1...  \n",
       "4  LINESTRING Z (144.74670 -37.93670 106.68000, 1...  "
      ]
     },
     "execution_count": 2,
     "metadata": {},
     "output_type": "execute_result"
    }
   ],
   "source": [
    "df.head()"
   ]
  },
  {
   "cell_type": "code",
   "execution_count": 3,
   "metadata": {
    "ExecuteTime": {
     "end_time": "2020-11-03T17:33:00.582617Z",
     "start_time": "2020-11-03T17:33:00.568666Z"
    }
   },
   "outputs": [
    {
     "data": {
      "text/plain": [
       "array(['Australia', 'United Kingdom', 'United States', 'France',\n",
       "       'Malaysia', 'Mexico', 'Canada', 'Ukraine', 'Indonesia', 'Germany',\n",
       "       'Japan', 'India', 'Spain', 'Denmark', 'Malta', 'Viet Nam',\n",
       "       'Switzerland', 'Russian Federation', 'Estonia', 'Namibia',\n",
       "       'Uzbekistan', 'Taiwan', 'Myanmar', 'United Arab Emirates',\n",
       "       'Turkey', 'Republic of Korea', 'Czech Republic', 'Greece',\n",
       "       'Thailand', 'Singapore', 'Latvia', 'Austria', 'Tunisia',\n",
       "       'Lithuania', 'Portugal', 'Brazil', 'San Marino', 'Sweden',\n",
       "       'Saudi Arabia', 'Iceland', 'Chile', 'Ireland', 'New Zealand',\n",
       "       'South Africa', 'Poland', 'Romania', 'Jordan', 'Morocco', 'Qatar',\n",
       "       'Pakistan', 'Philippines', 'Sri Lanka', 'Oman',\n",
       "       'Kingdom of the Netherlands', 'Italy', 'Norway', 'Argentina',\n",
       "       'Egypt', 'Lebanon', 'Mauritius', 'Bulgaria',\n",
       "       'Libyan Arab Jamahiriya', 'Belgium', 'Ecuador', 'China', 'Kuwait',\n",
       "       'Slovakia', 'Luxembourg', 'Iraq', 'Bahrain', 'Fiji', 'Finland',\n",
       "       'Republic of Moldova', 'Ethiopia', 'Israel', 'Algeria', 'Panama',\n",
       "       'Trinidad and Tobago', 'Belarus', 'Hungary', 'Bangladesh',\n",
       "       'Papua New Guinea', 'Rwanda', 'Serbia', 'Colombia',\n",
       "       'Brunei Darussalam', 'Solomon Islands', 'Syrian Arab Republic',\n",
       "       'Nepal', 'Peru', 'Antigua and Barbuda', 'Afghanistan', 'Georgia',\n",
       "       'Angola', 'Bolivia', 'Kazakhstan', 'Nigeria', 'Kenya',\n",
       "       'Islamic Republic of Iran', 'Croatia', 'Venezuela', 'Seychelles',\n",
       "       \"Lao People's Democratic Republic\", 'Cambodia', 'Vanuatu',\n",
       "       'Honduras', '', 'Bhutan'], dtype=object)"
      ]
     },
     "execution_count": 3,
     "metadata": {},
     "output_type": "execute_result"
    }
   ],
   "source": [
    "df['origin_country'].unique()"
   ]
  },
  {
   "cell_type": "code",
   "execution_count": 4,
   "metadata": {
    "ExecuteTime": {
     "end_time": "2020-11-03T17:34:59.939597Z",
     "start_time": "2020-11-03T17:34:59.913568Z"
    }
   },
   "outputs": [
    {
     "data": {
      "text/html": [
       "<div>\n",
       "<style scoped>\n",
       "    .dataframe tbody tr th:only-of-type {\n",
       "        vertical-align: middle;\n",
       "    }\n",
       "\n",
       "    .dataframe tbody tr th {\n",
       "        vertical-align: top;\n",
       "    }\n",
       "\n",
       "    .dataframe thead th {\n",
       "        text-align: right;\n",
       "    }\n",
       "</style>\n",
       "<table border=\"1\" class=\"dataframe\">\n",
       "  <thead>\n",
       "    <tr style=\"text-align: right;\">\n",
       "      <th></th>\n",
       "      <th>icao24</th>\n",
       "      <th>origin_country</th>\n",
       "      <th>callsign</th>\n",
       "      <th>airline</th>\n",
       "      <th>country</th>\n",
       "      <th>geometry</th>\n",
       "    </tr>\n",
       "  </thead>\n",
       "  <tbody>\n",
       "    <tr>\n",
       "      <td>16</td>\n",
       "      <td>a7c750</td>\n",
       "      <td>United States</td>\n",
       "      <td>XSR600</td>\n",
       "      <td>missing_info</td>\n",
       "      <td>missing_info</td>\n",
       "      <td>LINESTRING Z (-96.95940 38.24260 6728.46000, -...</td>\n",
       "    </tr>\n",
       "    <tr>\n",
       "      <td>56</td>\n",
       "      <td>a669b2</td>\n",
       "      <td>United States</td>\n",
       "      <td>WGA9512</td>\n",
       "      <td>missing_info</td>\n",
       "      <td>missing_info</td>\n",
       "      <td>LINESTRING Z (-88.40370 28.62050 12641.58000, ...</td>\n",
       "    </tr>\n",
       "    <tr>\n",
       "      <td>57</td>\n",
       "      <td>ac710c</td>\n",
       "      <td>United States</td>\n",
       "      <td>WDY901</td>\n",
       "      <td>missing_info</td>\n",
       "      <td>missing_info</td>\n",
       "      <td>None</td>\n",
       "    </tr>\n",
       "    <tr>\n",
       "      <td>59</td>\n",
       "      <td>aaf2ae</td>\n",
       "      <td>United States</td>\n",
       "      <td>WAL2002</td>\n",
       "      <td>missing_info</td>\n",
       "      <td>missing_info</td>\n",
       "      <td>LINESTRING Z (-88.85110 29.39280 9380.22000, -...</td>\n",
       "    </tr>\n",
       "    <tr>\n",
       "      <td>85</td>\n",
       "      <td>a67231</td>\n",
       "      <td>United States</td>\n",
       "      <td>VOI5938</td>\n",
       "      <td>Volaris</td>\n",
       "      <td>Mexico</td>\n",
       "      <td>LINESTRING Z (-114.55530 30.62590 11010.90000,...</td>\n",
       "    </tr>\n",
       "  </tbody>\n",
       "</table>\n",
       "</div>"
      ],
      "text/plain": [
       "    icao24 origin_country callsign       airline       country  \\\n",
       "16  a7c750  United States   XSR600  missing_info  missing_info   \n",
       "56  a669b2  United States  WGA9512  missing_info  missing_info   \n",
       "57  ac710c  United States   WDY901  missing_info  missing_info   \n",
       "59  aaf2ae  United States  WAL2002  missing_info  missing_info   \n",
       "85  a67231  United States  VOI5938       Volaris        Mexico   \n",
       "\n",
       "                                             geometry  \n",
       "16  LINESTRING Z (-96.95940 38.24260 6728.46000, -...  \n",
       "56  LINESTRING Z (-88.40370 28.62050 12641.58000, ...  \n",
       "57                                               None  \n",
       "59  LINESTRING Z (-88.85110 29.39280 9380.22000, -...  \n",
       "85  LINESTRING Z (-114.55530 30.62590 11010.90000,...  "
      ]
     },
     "execution_count": 4,
     "metadata": {},
     "output_type": "execute_result"
    }
   ],
   "source": [
    "df_usa = df[df[\"origin_country\"] == \"United States\"]\n",
    "df_usa.head()"
   ]
  },
  {
   "cell_type": "code",
   "execution_count": 5,
   "metadata": {
    "ExecuteTime": {
     "end_time": "2020-11-03T17:35:15.285824Z",
     "start_time": "2020-11-03T17:35:15.281609Z"
    }
   },
   "outputs": [
    {
     "data": {
      "text/plain": [
       "6388"
      ]
     },
     "execution_count": 5,
     "metadata": {},
     "output_type": "execute_result"
    }
   ],
   "source": [
    "len(df_usa)"
   ]
  },
  {
   "cell_type": "code",
   "execution_count": 6,
   "metadata": {
    "ExecuteTime": {
     "end_time": "2020-11-03T17:36:14.294849Z",
     "start_time": "2020-11-03T17:36:09.242677Z"
    }
   },
   "outputs": [],
   "source": [
    "df_usa.to_file(\"mini_world_flights_usa.geojson\", driver='GeoJSON')"
   ]
  },
  {
   "cell_type": "code",
   "execution_count": null,
   "metadata": {},
   "outputs": [],
   "source": []
  }
 ],
 "metadata": {
  "kernelspec": {
   "display_name": "Python 3",
   "language": "python",
   "name": "python3"
  },
  "language_info": {
   "codemirror_mode": {
    "name": "ipython",
    "version": 3
   },
   "file_extension": ".py",
   "mimetype": "text/x-python",
   "name": "python",
   "nbconvert_exporter": "python",
   "pygments_lexer": "ipython3",
   "version": "3.6.8"
  },
  "latex_envs": {
   "LaTeX_envs_menu_present": true,
   "autoclose": false,
   "autocomplete": true,
   "bibliofile": "biblio.bib",
   "cite_by": "apalike",
   "current_citInitial": 1,
   "eqLabelWithNumbers": true,
   "eqNumInitial": 1,
   "hotkeys": {
    "equation": "Ctrl-E",
    "itemize": "Ctrl-I"
   },
   "labels_anchors": false,
   "latex_user_defs": false,
   "report_style_numbering": false,
   "user_envs_cfg": false
  },
  "toc": {
   "base_numbering": 1,
   "nav_menu": {},
   "number_sections": true,
   "sideBar": true,
   "skip_h1_title": false,
   "title_cell": "Table of Contents",
   "title_sidebar": "Contents",
   "toc_cell": false,
   "toc_position": {},
   "toc_section_display": true,
   "toc_window_display": false
  }
 },
 "nbformat": 4,
 "nbformat_minor": 2
}
